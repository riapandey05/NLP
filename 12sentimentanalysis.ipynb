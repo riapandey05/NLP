{
 "cells": [
  {
   "cell_type": "code",
   "execution_count": 1,
   "metadata": {},
   "outputs": [],
   "source": [
    "import pandas as pd"
   ]
  },
  {
   "cell_type": "code",
   "execution_count": 2,
   "metadata": {},
   "outputs": [
    {
     "data": {
      "text/html": [
       "<div>\n",
       "<style scoped>\n",
       "    .dataframe tbody tr th:only-of-type {\n",
       "        vertical-align: middle;\n",
       "    }\n",
       "\n",
       "    .dataframe tbody tr th {\n",
       "        vertical-align: top;\n",
       "    }\n",
       "\n",
       "    .dataframe thead th {\n",
       "        text-align: right;\n",
       "    }\n",
       "</style>\n",
       "<table border=\"1\" class=\"dataframe\">\n",
       "  <thead>\n",
       "    <tr style=\"text-align: right;\">\n",
       "      <th></th>\n",
       "      <th>Unnamed: 0.1</th>\n",
       "      <th>Unnamed: 0</th>\n",
       "      <th>asin</th>\n",
       "      <th>helpful</th>\n",
       "      <th>rating</th>\n",
       "      <th>reviewText</th>\n",
       "      <th>reviewTime</th>\n",
       "      <th>reviewerID</th>\n",
       "      <th>reviewerName</th>\n",
       "      <th>summary</th>\n",
       "      <th>unixReviewTime</th>\n",
       "    </tr>\n",
       "  </thead>\n",
       "  <tbody>\n",
       "    <tr>\n",
       "      <th>0</th>\n",
       "      <td>0</td>\n",
       "      <td>11539</td>\n",
       "      <td>B0033UV8HI</td>\n",
       "      <td>[8, 10]</td>\n",
       "      <td>3</td>\n",
       "      <td>Jace Rankin may be short, but he's nothing to ...</td>\n",
       "      <td>09 2, 2010</td>\n",
       "      <td>A3HHXRELK8BHQG</td>\n",
       "      <td>Ridley</td>\n",
       "      <td>Entertaining But Average</td>\n",
       "      <td>1283385600</td>\n",
       "    </tr>\n",
       "    <tr>\n",
       "      <th>1</th>\n",
       "      <td>1</td>\n",
       "      <td>5957</td>\n",
       "      <td>B002HJV4DE</td>\n",
       "      <td>[1, 1]</td>\n",
       "      <td>5</td>\n",
       "      <td>Great short read.  I didn't want to put it dow...</td>\n",
       "      <td>10 8, 2013</td>\n",
       "      <td>A2RGNZ0TRF578I</td>\n",
       "      <td>Holly Butler</td>\n",
       "      <td>Terrific menage scenes!</td>\n",
       "      <td>1381190400</td>\n",
       "    </tr>\n",
       "    <tr>\n",
       "      <th>2</th>\n",
       "      <td>2</td>\n",
       "      <td>9146</td>\n",
       "      <td>B002ZG96I4</td>\n",
       "      <td>[0, 0]</td>\n",
       "      <td>3</td>\n",
       "      <td>I'll start by saying this is the first of four...</td>\n",
       "      <td>04 11, 2014</td>\n",
       "      <td>A3S0H2HV6U1I7F</td>\n",
       "      <td>Merissa</td>\n",
       "      <td>Snapdragon Alley</td>\n",
       "      <td>1397174400</td>\n",
       "    </tr>\n",
       "    <tr>\n",
       "      <th>3</th>\n",
       "      <td>3</td>\n",
       "      <td>7038</td>\n",
       "      <td>B002QHWOEU</td>\n",
       "      <td>[1, 3]</td>\n",
       "      <td>3</td>\n",
       "      <td>Aggie is Angela Lansbury who carries pocketboo...</td>\n",
       "      <td>07 5, 2014</td>\n",
       "      <td>AC4OQW3GZ919J</td>\n",
       "      <td>Cleargrace</td>\n",
       "      <td>very light murder cozy</td>\n",
       "      <td>1404518400</td>\n",
       "    </tr>\n",
       "    <tr>\n",
       "      <th>4</th>\n",
       "      <td>4</td>\n",
       "      <td>1776</td>\n",
       "      <td>B001A06VJ8</td>\n",
       "      <td>[0, 1]</td>\n",
       "      <td>4</td>\n",
       "      <td>I did not expect this type of book to be in li...</td>\n",
       "      <td>12 31, 2012</td>\n",
       "      <td>A3C9V987IQHOQD</td>\n",
       "      <td>Rjostler</td>\n",
       "      <td>Book</td>\n",
       "      <td>1356912000</td>\n",
       "    </tr>\n",
       "  </tbody>\n",
       "</table>\n",
       "</div>"
      ],
      "text/plain": [
       "   Unnamed: 0.1  Unnamed: 0        asin  helpful  rating  \\\n",
       "0             0       11539  B0033UV8HI  [8, 10]       3   \n",
       "1             1        5957  B002HJV4DE   [1, 1]       5   \n",
       "2             2        9146  B002ZG96I4   [0, 0]       3   \n",
       "3             3        7038  B002QHWOEU   [1, 3]       3   \n",
       "4             4        1776  B001A06VJ8   [0, 1]       4   \n",
       "\n",
       "                                          reviewText   reviewTime  \\\n",
       "0  Jace Rankin may be short, but he's nothing to ...   09 2, 2010   \n",
       "1  Great short read.  I didn't want to put it dow...   10 8, 2013   \n",
       "2  I'll start by saying this is the first of four...  04 11, 2014   \n",
       "3  Aggie is Angela Lansbury who carries pocketboo...   07 5, 2014   \n",
       "4  I did not expect this type of book to be in li...  12 31, 2012   \n",
       "\n",
       "       reviewerID  reviewerName                   summary  unixReviewTime  \n",
       "0  A3HHXRELK8BHQG        Ridley  Entertaining But Average      1283385600  \n",
       "1  A2RGNZ0TRF578I  Holly Butler   Terrific menage scenes!      1381190400  \n",
       "2  A3S0H2HV6U1I7F       Merissa          Snapdragon Alley      1397174400  \n",
       "3   AC4OQW3GZ919J    Cleargrace    very light murder cozy      1404518400  \n",
       "4  A3C9V987IQHOQD      Rjostler                      Book      1356912000  "
      ]
     },
     "execution_count": 2,
     "metadata": {},
     "output_type": "execute_result"
    }
   ],
   "source": [
    "df = pd.read_csv('sentiment.csv')\n",
    "df.head()"
   ]
  },
  {
   "cell_type": "code",
   "execution_count": 3,
   "metadata": {},
   "outputs": [
    {
     "data": {
      "text/html": [
       "<div>\n",
       "<style scoped>\n",
       "    .dataframe tbody tr th:only-of-type {\n",
       "        vertical-align: middle;\n",
       "    }\n",
       "\n",
       "    .dataframe tbody tr th {\n",
       "        vertical-align: top;\n",
       "    }\n",
       "\n",
       "    .dataframe thead th {\n",
       "        text-align: right;\n",
       "    }\n",
       "</style>\n",
       "<table border=\"1\" class=\"dataframe\">\n",
       "  <thead>\n",
       "    <tr style=\"text-align: right;\">\n",
       "      <th></th>\n",
       "      <th>reviewText</th>\n",
       "      <th>rating</th>\n",
       "    </tr>\n",
       "  </thead>\n",
       "  <tbody>\n",
       "    <tr>\n",
       "      <th>0</th>\n",
       "      <td>Jace Rankin may be short, but he's nothing to ...</td>\n",
       "      <td>3</td>\n",
       "    </tr>\n",
       "    <tr>\n",
       "      <th>1</th>\n",
       "      <td>Great short read.  I didn't want to put it dow...</td>\n",
       "      <td>5</td>\n",
       "    </tr>\n",
       "    <tr>\n",
       "      <th>2</th>\n",
       "      <td>I'll start by saying this is the first of four...</td>\n",
       "      <td>3</td>\n",
       "    </tr>\n",
       "    <tr>\n",
       "      <th>3</th>\n",
       "      <td>Aggie is Angela Lansbury who carries pocketboo...</td>\n",
       "      <td>3</td>\n",
       "    </tr>\n",
       "    <tr>\n",
       "      <th>4</th>\n",
       "      <td>I did not expect this type of book to be in li...</td>\n",
       "      <td>4</td>\n",
       "    </tr>\n",
       "  </tbody>\n",
       "</table>\n",
       "</div>"
      ],
      "text/plain": [
       "                                          reviewText  rating\n",
       "0  Jace Rankin may be short, but he's nothing to ...       3\n",
       "1  Great short read.  I didn't want to put it dow...       5\n",
       "2  I'll start by saying this is the first of four...       3\n",
       "3  Aggie is Angela Lansbury who carries pocketboo...       3\n",
       "4  I did not expect this type of book to be in li...       4"
      ]
     },
     "execution_count": 3,
     "metadata": {},
     "output_type": "execute_result"
    }
   ],
   "source": [
    "df = df[['reviewText','rating']]\n",
    "df.head()"
   ]
  },
  {
   "cell_type": "code",
   "execution_count": 4,
   "metadata": {},
   "outputs": [
    {
     "data": {
      "text/plain": [
       "reviewText    0\n",
       "rating        0\n",
       "dtype: int64"
      ]
     },
     "execution_count": 4,
     "metadata": {},
     "output_type": "execute_result"
    }
   ],
   "source": [
    "df.isnull().sum()"
   ]
  },
  {
   "cell_type": "code",
   "execution_count": 5,
   "metadata": {},
   "outputs": [
    {
     "data": {
      "text/plain": [
       "rating\n",
       "5    3000\n",
       "4    3000\n",
       "3    2000\n",
       "2    2000\n",
       "1    2000\n",
       "Name: count, dtype: int64"
      ]
     },
     "execution_count": 5,
     "metadata": {},
     "output_type": "execute_result"
    }
   ],
   "source": [
    "df['rating'].value_counts()"
   ]
  },
  {
   "cell_type": "code",
   "execution_count": 6,
   "metadata": {},
   "outputs": [],
   "source": [
    "# positive review is 0 and negative review is 1\n",
    "df['rating']=df['rating'].apply(lambda x:0 if x < 3  else 1)\n"
   ]
  },
  {
   "cell_type": "code",
   "execution_count": 7,
   "metadata": {},
   "outputs": [
    {
     "data": {
      "text/html": [
       "<div>\n",
       "<style scoped>\n",
       "    .dataframe tbody tr th:only-of-type {\n",
       "        vertical-align: middle;\n",
       "    }\n",
       "\n",
       "    .dataframe tbody tr th {\n",
       "        vertical-align: top;\n",
       "    }\n",
       "\n",
       "    .dataframe thead th {\n",
       "        text-align: right;\n",
       "    }\n",
       "</style>\n",
       "<table border=\"1\" class=\"dataframe\">\n",
       "  <thead>\n",
       "    <tr style=\"text-align: right;\">\n",
       "      <th></th>\n",
       "      <th>reviewText</th>\n",
       "      <th>rating</th>\n",
       "    </tr>\n",
       "  </thead>\n",
       "  <tbody>\n",
       "    <tr>\n",
       "      <th>0</th>\n",
       "      <td>Jace Rankin may be short, but he's nothing to ...</td>\n",
       "      <td>1</td>\n",
       "    </tr>\n",
       "    <tr>\n",
       "      <th>1</th>\n",
       "      <td>Great short read.  I didn't want to put it dow...</td>\n",
       "      <td>1</td>\n",
       "    </tr>\n",
       "    <tr>\n",
       "      <th>2</th>\n",
       "      <td>I'll start by saying this is the first of four...</td>\n",
       "      <td>1</td>\n",
       "    </tr>\n",
       "    <tr>\n",
       "      <th>3</th>\n",
       "      <td>Aggie is Angela Lansbury who carries pocketboo...</td>\n",
       "      <td>1</td>\n",
       "    </tr>\n",
       "    <tr>\n",
       "      <th>4</th>\n",
       "      <td>I did not expect this type of book to be in li...</td>\n",
       "      <td>1</td>\n",
       "    </tr>\n",
       "  </tbody>\n",
       "</table>\n",
       "</div>"
      ],
      "text/plain": [
       "                                          reviewText  rating\n",
       "0  Jace Rankin may be short, but he's nothing to ...       1\n",
       "1  Great short read.  I didn't want to put it dow...       1\n",
       "2  I'll start by saying this is the first of four...       1\n",
       "3  Aggie is Angela Lansbury who carries pocketboo...       1\n",
       "4  I did not expect this type of book to be in li...       1"
      ]
     },
     "execution_count": 7,
     "metadata": {},
     "output_type": "execute_result"
    }
   ],
   "source": [
    "df.head()"
   ]
  },
  {
   "cell_type": "code",
   "execution_count": 8,
   "metadata": {},
   "outputs": [
    {
     "data": {
      "text/plain": [
       "rating\n",
       "1    8000\n",
       "0    4000\n",
       "Name: count, dtype: int64"
      ]
     },
     "execution_count": 8,
     "metadata": {},
     "output_type": "execute_result"
    }
   ],
   "source": [
    "df['rating'].value_counts()"
   ]
  },
  {
   "cell_type": "code",
   "execution_count": 9,
   "metadata": {},
   "outputs": [],
   "source": [
    "# lower all cases\n",
    "df['reviewText']=df['reviewText'].str.lower()"
   ]
  },
  {
   "cell_type": "code",
   "execution_count": 10,
   "metadata": {},
   "outputs": [
    {
     "data": {
      "text/html": [
       "<div>\n",
       "<style scoped>\n",
       "    .dataframe tbody tr th:only-of-type {\n",
       "        vertical-align: middle;\n",
       "    }\n",
       "\n",
       "    .dataframe tbody tr th {\n",
       "        vertical-align: top;\n",
       "    }\n",
       "\n",
       "    .dataframe thead th {\n",
       "        text-align: right;\n",
       "    }\n",
       "</style>\n",
       "<table border=\"1\" class=\"dataframe\">\n",
       "  <thead>\n",
       "    <tr style=\"text-align: right;\">\n",
       "      <th></th>\n",
       "      <th>reviewText</th>\n",
       "      <th>rating</th>\n",
       "    </tr>\n",
       "  </thead>\n",
       "  <tbody>\n",
       "    <tr>\n",
       "      <th>0</th>\n",
       "      <td>jace rankin may be short, but he's nothing to ...</td>\n",
       "      <td>1</td>\n",
       "    </tr>\n",
       "    <tr>\n",
       "      <th>1</th>\n",
       "      <td>great short read.  i didn't want to put it dow...</td>\n",
       "      <td>1</td>\n",
       "    </tr>\n",
       "    <tr>\n",
       "      <th>2</th>\n",
       "      <td>i'll start by saying this is the first of four...</td>\n",
       "      <td>1</td>\n",
       "    </tr>\n",
       "    <tr>\n",
       "      <th>3</th>\n",
       "      <td>aggie is angela lansbury who carries pocketboo...</td>\n",
       "      <td>1</td>\n",
       "    </tr>\n",
       "    <tr>\n",
       "      <th>4</th>\n",
       "      <td>i did not expect this type of book to be in li...</td>\n",
       "      <td>1</td>\n",
       "    </tr>\n",
       "  </tbody>\n",
       "</table>\n",
       "</div>"
      ],
      "text/plain": [
       "                                          reviewText  rating\n",
       "0  jace rankin may be short, but he's nothing to ...       1\n",
       "1  great short read.  i didn't want to put it dow...       1\n",
       "2  i'll start by saying this is the first of four...       1\n",
       "3  aggie is angela lansbury who carries pocketboo...       1\n",
       "4  i did not expect this type of book to be in li...       1"
      ]
     },
     "execution_count": 10,
     "metadata": {},
     "output_type": "execute_result"
    }
   ],
   "source": [
    "df.head()"
   ]
  },
  {
   "cell_type": "code",
   "execution_count": 11,
   "metadata": {},
   "outputs": [
    {
     "name": "stderr",
     "output_type": "stream",
     "text": [
      "[nltk_data] Downloading package stopwords to C:\\Users\\Rajeev\n",
      "[nltk_data]     Pandey\\AppData\\Roaming\\nltk_data...\n",
      "[nltk_data]   Package stopwords is already up-to-date!\n"
     ]
    },
    {
     "data": {
      "text/plain": [
       "True"
      ]
     },
     "execution_count": 11,
     "metadata": {},
     "output_type": "execute_result"
    }
   ],
   "source": [
    "import re\n",
    "import nltk\n",
    "from nltk.corpus import stopwords\n",
    "nltk.download('stopwords')"
   ]
  },
  {
   "cell_type": "code",
   "execution_count": 16,
   "metadata": {},
   "outputs": [
    {
     "name": "stdout",
     "output_type": "stream",
     "text": [
      "Collecting beautifulsoup4\n",
      "  Obtaining dependency information for beautifulsoup4 from https://files.pythonhosted.org/packages/b1/fe/e8c672695b37eecc5cbf43e1d0638d88d66ba3a44c4d321c796f4e59167f/beautifulsoup4-4.12.3-py3-none-any.whl.metadata\n",
      "  Downloading beautifulsoup4-4.12.3-py3-none-any.whl.metadata (3.8 kB)\n",
      "Collecting soupsieve>1.2 (from beautifulsoup4)\n",
      "  Obtaining dependency information for soupsieve>1.2 from https://files.pythonhosted.org/packages/d1/c2/fe97d779f3ef3b15f05c94a2f1e3d21732574ed441687474db9d342a7315/soupsieve-2.6-py3-none-any.whl.metadata\n",
      "  Downloading soupsieve-2.6-py3-none-any.whl.metadata (4.6 kB)\n",
      "Downloading beautifulsoup4-4.12.3-py3-none-any.whl (147 kB)\n",
      "   ---------------------------------------- 0.0/147.9 kB ? eta -:--:--\n",
      "   ---------------------------------------- 0.0/147.9 kB ? eta -:--:--\n",
      "   ---------------------------------------- 0.0/147.9 kB ? eta -:--:--\n",
      "   ---------------------------------------- 0.0/147.9 kB ? eta -:--:--\n",
      "   -- ------------------------------------- 10.2/147.9 kB ? eta -:--:--\n",
      "   ---------- ---------------------------- 41.0/147.9 kB 653.6 kB/s eta 0:00:01\n",
      "   ------------------ -------------------- 71.7/147.9 kB 653.6 kB/s eta 0:00:01\n",
      "   -------------------------------------- 147.9/147.9 kB 983.5 kB/s eta 0:00:00\n",
      "Downloading soupsieve-2.6-py3-none-any.whl (36 kB)\n",
      "Installing collected packages: soupsieve, beautifulsoup4\n",
      "Successfully installed beautifulsoup4-4.12.3 soupsieve-2.6\n",
      "Note: you may need to restart the kernel to use updated packages.\n"
     ]
    },
    {
     "name": "stderr",
     "output_type": "stream",
     "text": [
      "\n",
      "[notice] A new release of pip is available: 23.2.1 -> 25.0\n",
      "[notice] To update, run: python.exe -m pip install --upgrade pip\n"
     ]
    }
   ],
   "source": [
    "pip install beautifulsoup4"
   ]
  },
  {
   "cell_type": "code",
   "execution_count": 19,
   "metadata": {},
   "outputs": [
    {
     "name": "stdout",
     "output_type": "stream",
     "text": [
      "Collecting lxml\n",
      "  Obtaining dependency information for lxml from https://files.pythonhosted.org/packages/fc/82/ace5a5676051e60355bd8fb945df7b1ba4f4fb8447f2010fb816bfd57724/lxml-5.3.0-cp312-cp312-win_amd64.whl.metadata\n",
      "  Downloading lxml-5.3.0-cp312-cp312-win_amd64.whl.metadata (3.9 kB)\n",
      "Downloading lxml-5.3.0-cp312-cp312-win_amd64.whl (3.8 MB)\n",
      "   ---------------------------------------- 0.0/3.8 MB ? eta -:--:--\n",
      "   ---------------------------------------- 0.0/3.8 MB 1.3 MB/s eta 0:00:03\n",
      "   ---------------------------------------- 0.0/3.8 MB 326.8 kB/s eta 0:00:12\n",
      "    --------------------------------------- 0.1/3.8 MB 581.0 kB/s eta 0:00:07\n",
      "    --------------------------------------- 0.1/3.8 MB 581.0 kB/s eta 0:00:07\n",
      "   - -------------------------------------- 0.1/3.8 MB 655.8 kB/s eta 0:00:06\n",
      "   - -------------------------------------- 0.2/3.8 MB 656.4 kB/s eta 0:00:06\n",
      "   - -------------------------------------- 0.2/3.8 MB 551.6 kB/s eta 0:00:07\n",
      "   - -------------------------------------- 0.2/3.8 MB 551.6 kB/s eta 0:00:07\n",
      "   -- ------------------------------------- 0.3/3.8 MB 606.6 kB/s eta 0:00:06\n",
      "   -- ------------------------------------- 0.3/3.8 MB 607.9 kB/s eta 0:00:06\n",
      "   --- ------------------------------------ 0.3/3.8 MB 634.9 kB/s eta 0:00:06\n",
      "   --- ------------------------------------ 0.3/3.8 MB 634.9 kB/s eta 0:00:06\n",
      "   --- ------------------------------------ 0.3/3.8 MB 634.9 kB/s eta 0:00:06\n",
      "   --- ------------------------------------ 0.3/3.8 MB 634.9 kB/s eta 0:00:06\n",
      "   --- ------------------------------------ 0.3/3.8 MB 634.9 kB/s eta 0:00:06\n",
      "   --- ------------------------------------ 0.3/3.8 MB 634.9 kB/s eta 0:00:06\n",
      "   --- ------------------------------------ 0.3/3.8 MB 634.9 kB/s eta 0:00:06\n",
      "   --- ------------------------------------ 0.3/3.8 MB 634.9 kB/s eta 0:00:06\n",
      "   --- ------------------------------------ 0.3/3.8 MB 634.9 kB/s eta 0:00:06\n",
      "   --- ------------------------------------ 0.3/3.8 MB 634.9 kB/s eta 0:00:06\n",
      "   --- ------------------------------------ 0.3/3.8 MB 634.9 kB/s eta 0:00:06\n",
      "   --- ------------------------------------ 0.3/3.8 MB 634.9 kB/s eta 0:00:06\n",
      "   --- ------------------------------------ 0.3/3.8 MB 634.9 kB/s eta 0:00:06\n",
      "   --- ------------------------------------ 0.3/3.8 MB 634.9 kB/s eta 0:00:06\n",
      "   --- ------------------------------------ 0.3/3.8 MB 634.9 kB/s eta 0:00:06\n",
      "   --- ------------------------------------ 0.3/3.8 MB 634.9 kB/s eta 0:00:06\n",
      "   --- ------------------------------------ 0.3/3.8 MB 634.9 kB/s eta 0:00:06\n",
      "   --- ------------------------------------ 0.3/3.8 MB 634.9 kB/s eta 0:00:06\n",
      "   --- ------------------------------------ 0.3/3.8 MB 634.9 kB/s eta 0:00:06\n",
      "   --- ------------------------------------ 0.3/3.8 MB 634.9 kB/s eta 0:00:06\n",
      "   --- ------------------------------------ 0.3/3.8 MB 634.9 kB/s eta 0:00:06\n",
      "   --- ------------------------------------ 0.3/3.8 MB 634.9 kB/s eta 0:00:06\n",
      "   --- ------------------------------------ 0.3/3.8 MB 634.9 kB/s eta 0:00:06\n",
      "   --- ------------------------------------ 0.3/3.8 MB 634.9 kB/s eta 0:00:06\n",
      "   --- ------------------------------------ 0.3/3.8 MB 634.9 kB/s eta 0:00:06\n",
      "   --- ------------------------------------ 0.3/3.8 MB 634.9 kB/s eta 0:00:06\n",
      "   --- ------------------------------------ 0.3/3.8 MB 634.9 kB/s eta 0:00:06\n",
      "   --- ------------------------------------ 0.3/3.8 MB 634.9 kB/s eta 0:00:06\n",
      "   --- ------------------------------------ 0.3/3.8 MB 634.9 kB/s eta 0:00:06\n",
      "   --- ------------------------------------ 0.3/3.8 MB 634.9 kB/s eta 0:00:06\n",
      "   --- ------------------------------------ 0.3/3.8 MB 634.9 kB/s eta 0:00:06\n",
      "   --- ------------------------------------ 0.3/3.8 MB 634.9 kB/s eta 0:00:06\n",
      "   --- ------------------------------------ 0.3/3.8 MB 634.9 kB/s eta 0:00:06\n",
      "   --- ------------------------------------ 0.3/3.8 MB 634.9 kB/s eta 0:00:06\n",
      "   --- ------------------------------------ 0.3/3.8 MB 634.9 kB/s eta 0:00:06\n",
      "   --- ------------------------------------ 0.3/3.8 MB 634.9 kB/s eta 0:00:06\n",
      "   --- ------------------------------------ 0.3/3.8 MB 634.9 kB/s eta 0:00:06\n",
      "   --- ------------------------------------ 0.3/3.8 MB 634.9 kB/s eta 0:00:06\n",
      "   --- ------------------------------------ 0.3/3.8 MB 634.9 kB/s eta 0:00:06\n",
      "   --- ------------------------------------ 0.3/3.8 MB 634.9 kB/s eta 0:00:06\n",
      "   --- ------------------------------------ 0.3/3.8 MB 634.9 kB/s eta 0:00:06\n",
      "   --- ------------------------------------ 0.3/3.8 MB 634.9 kB/s eta 0:00:06\n",
      "   --- ------------------------------------ 0.3/3.8 MB 634.9 kB/s eta 0:00:06\n",
      "   --- ------------------------------------ 0.3/3.8 MB 634.9 kB/s eta 0:00:06\n",
      "   --- ------------------------------------ 0.3/3.8 MB 634.9 kB/s eta 0:00:06\n",
      "   --- ------------------------------------ 0.3/3.8 MB 634.9 kB/s eta 0:00:06\n",
      "   --- ------------------------------------ 0.3/3.8 MB 634.9 kB/s eta 0:00:06\n",
      "   --- ------------------------------------ 0.3/3.8 MB 634.9 kB/s eta 0:00:06\n",
      "   --- ------------------------------------ 0.3/3.8 MB 634.9 kB/s eta 0:00:06\n",
      "   --- ------------------------------------ 0.3/3.8 MB 634.9 kB/s eta 0:00:06\n",
      "   --- ------------------------------------ 0.3/3.8 MB 634.9 kB/s eta 0:00:06\n",
      "   --- ------------------------------------ 0.3/3.8 MB 634.9 kB/s eta 0:00:06\n",
      "   --- ------------------------------------ 0.3/3.8 MB 634.9 kB/s eta 0:00:06\n",
      "   --- ------------------------------------ 0.3/3.8 MB 634.9 kB/s eta 0:00:06\n",
      "   --- ------------------------------------ 0.3/3.8 MB 634.9 kB/s eta 0:00:06\n",
      "   --- ------------------------------------ 0.3/3.8 MB 634.9 kB/s eta 0:00:06\n",
      "   --- ------------------------------------ 0.3/3.8 MB 634.9 kB/s eta 0:00:06\n",
      "   --- ------------------------------------ 0.3/3.8 MB 634.9 kB/s eta 0:00:06\n",
      "   --- ------------------------------------ 0.3/3.8 MB 634.9 kB/s eta 0:00:06\n",
      "   --- ------------------------------------ 0.3/3.8 MB 634.9 kB/s eta 0:00:06\n",
      "   --- ------------------------------------ 0.3/3.8 MB 634.9 kB/s eta 0:00:06\n",
      "   --- ------------------------------------ 0.3/3.8 MB 634.9 kB/s eta 0:00:06\n",
      "   --- ------------------------------------ 0.3/3.8 MB 634.9 kB/s eta 0:00:06\n",
      "   --- ------------------------------------ 0.3/3.8 MB 634.9 kB/s eta 0:00:06\n",
      "   --- ------------------------------------ 0.3/3.8 MB 634.9 kB/s eta 0:00:06\n",
      "   --- ------------------------------------ 0.3/3.8 MB 634.9 kB/s eta 0:00:06\n",
      "   --- ------------------------------------ 0.3/3.8 MB 634.9 kB/s eta 0:00:06\n",
      "   --- ------------------------------------ 0.3/3.8 MB 634.9 kB/s eta 0:00:06\n",
      "   --- ------------------------------------ 0.3/3.8 MB 634.9 kB/s eta 0:00:06\n",
      "   --- ------------------------------------ 0.3/3.8 MB 634.9 kB/s eta 0:00:06\n",
      "   --- ------------------------------------ 0.3/3.8 MB 634.9 kB/s eta 0:00:06\n",
      "   --- ------------------------------------ 0.3/3.8 MB 634.9 kB/s eta 0:00:06\n",
      "   --- ------------------------------------ 0.3/3.8 MB 634.9 kB/s eta 0:00:06\n",
      "   --- ------------------------------------ 0.3/3.8 MB 634.9 kB/s eta 0:00:06\n",
      "   --- ------------------------------------ 0.3/3.8 MB 634.9 kB/s eta 0:00:06\n",
      "   --- ------------------------------------ 0.3/3.8 MB 634.9 kB/s eta 0:00:06\n",
      "   --- ------------------------------------ 0.3/3.8 MB 634.9 kB/s eta 0:00:06\n",
      "   --- ------------------------------------ 0.3/3.8 MB 634.9 kB/s eta 0:00:06\n",
      "   --- ------------------------------------ 0.3/3.8 MB 634.9 kB/s eta 0:00:06\n",
      "   --- ------------------------------------ 0.3/3.8 MB 634.9 kB/s eta 0:00:06\n",
      "   --- ------------------------------------ 0.3/3.8 MB 634.9 kB/s eta 0:00:06\n",
      "   --- ------------------------------------ 0.3/3.8 MB 634.9 kB/s eta 0:00:06\n",
      "   --- ------------------------------------ 0.3/3.8 MB 634.9 kB/s eta 0:00:06\n",
      "   --- ------------------------------------ 0.3/3.8 MB 634.9 kB/s eta 0:00:06\n",
      "   --- ------------------------------------ 0.3/3.8 MB 634.9 kB/s eta 0:00:06\n",
      "   --- ------------------------------------ 0.3/3.8 MB 634.9 kB/s eta 0:00:06\n",
      "   --- ------------------------------------ 0.3/3.8 MB 634.9 kB/s eta 0:00:06\n",
      "   --- ------------------------------------ 0.3/3.8 MB 634.9 kB/s eta 0:00:06\n",
      "   --- ------------------------------------ 0.3/3.8 MB 634.9 kB/s eta 0:00:06\n",
      "   --- ------------------------------------ 0.3/3.8 MB 634.9 kB/s eta 0:00:06\n",
      "   --- ------------------------------------ 0.3/3.8 MB 72.1 kB/s eta 0:00:49\n",
      "   --- ------------------------------------ 0.3/3.8 MB 72.1 kB/s eta 0:00:49\n",
      "   --- ------------------------------------ 0.3/3.8 MB 72.1 kB/s eta 0:00:49\n",
      "   --- ------------------------------------ 0.3/3.8 MB 72.1 kB/s eta 0:00:49\n",
      "   --- ------------------------------------ 0.3/3.8 MB 72.1 kB/s eta 0:00:49\n",
      "   --- ------------------------------------ 0.3/3.8 MB 72.1 kB/s eta 0:00:49\n",
      "   --- ------------------------------------ 0.3/3.8 MB 72.1 kB/s eta 0:00:49\n",
      "   --- ------------------------------------ 0.3/3.8 MB 72.1 kB/s eta 0:00:49\n",
      "   --- ------------------------------------ 0.4/3.8 MB 69.2 kB/s eta 0:00:50\n",
      "   --- ------------------------------------ 0.4/3.8 MB 69.2 kB/s eta 0:00:50\n",
      "   --- ------------------------------------ 0.4/3.8 MB 69.2 kB/s eta 0:00:50\n",
      "   --- ------------------------------------ 0.4/3.8 MB 69.2 kB/s eta 0:00:50\n",
      "   --- ------------------------------------ 0.4/3.8 MB 69.2 kB/s eta 0:00:50\n",
      "   --- ------------------------------------ 0.4/3.8 MB 69.2 kB/s eta 0:00:50\n",
      "   --- ------------------------------------ 0.4/3.8 MB 69.2 kB/s eta 0:00:50\n",
      "   --- ------------------------------------ 0.4/3.8 MB 69.2 kB/s eta 0:00:50\n",
      "   --- ------------------------------------ 0.4/3.8 MB 69.2 kB/s eta 0:00:50\n",
      "   --- ------------------------------------ 0.4/3.8 MB 69.2 kB/s eta 0:00:50\n",
      "   --- ------------------------------------ 0.4/3.8 MB 69.2 kB/s eta 0:00:50\n",
      "   --- ------------------------------------ 0.4/3.8 MB 69.2 kB/s eta 0:00:50\n",
      "   --- ------------------------------------ 0.4/3.8 MB 69.2 kB/s eta 0:00:50\n",
      "   --- ------------------------------------ 0.4/3.8 MB 69.2 kB/s eta 0:00:50\n",
      "   --- ------------------------------------ 0.4/3.8 MB 69.2 kB/s eta 0:00:50\n",
      "   --- ------------------------------------ 0.4/3.8 MB 69.2 kB/s eta 0:00:50\n",
      "   --- ------------------------------------ 0.4/3.8 MB 69.2 kB/s eta 0:00:50\n",
      "   --- ------------------------------------ 0.4/3.8 MB 69.2 kB/s eta 0:00:50\n",
      "   --- ------------------------------------ 0.4/3.8 MB 69.2 kB/s eta 0:00:50\n",
      "   --- ------------------------------------ 0.4/3.8 MB 69.2 kB/s eta 0:00:50\n",
      "   --- ------------------------------------ 0.4/3.8 MB 69.2 kB/s eta 0:00:50\n",
      "   --- ------------------------------------ 0.4/3.8 MB 69.2 kB/s eta 0:00:50\n",
      "   --- ------------------------------------ 0.4/3.8 MB 69.2 kB/s eta 0:00:50\n",
      "   --- ------------------------------------ 0.4/3.8 MB 69.2 kB/s eta 0:00:50\n",
      "   --- ------------------------------------ 0.4/3.8 MB 69.2 kB/s eta 0:00:50\n",
      "   --- ------------------------------------ 0.4/3.8 MB 69.2 kB/s eta 0:00:50\n",
      "   --- ------------------------------------ 0.4/3.8 MB 69.2 kB/s eta 0:00:50\n",
      "   --- ------------------------------------ 0.4/3.8 MB 69.2 kB/s eta 0:00:50\n",
      "   --- ------------------------------------ 0.4/3.8 MB 69.2 kB/s eta 0:00:50\n",
      "   --- ------------------------------------ 0.4/3.8 MB 69.2 kB/s eta 0:00:50\n",
      "   --- ------------------------------------ 0.4/3.8 MB 69.2 kB/s eta 0:00:50\n",
      "   --- ------------------------------------ 0.4/3.8 MB 69.2 kB/s eta 0:00:50\n",
      "   --- ------------------------------------ 0.4/3.8 MB 69.2 kB/s eta 0:00:50\n",
      "   --- ------------------------------------ 0.4/3.8 MB 69.2 kB/s eta 0:00:50\n",
      "   --- ------------------------------------ 0.4/3.8 MB 69.2 kB/s eta 0:00:50\n",
      "   --- ------------------------------------ 0.4/3.8 MB 69.2 kB/s eta 0:00:50\n",
      "   --- ------------------------------------ 0.4/3.8 MB 69.2 kB/s eta 0:00:50\n",
      "   --- ------------------------------------ 0.4/3.8 MB 69.2 kB/s eta 0:00:50\n",
      "   --- ------------------------------------ 0.4/3.8 MB 69.2 kB/s eta 0:00:50\n",
      "   --- ------------------------------------ 0.4/3.8 MB 69.2 kB/s eta 0:00:50\n",
      "   --- ------------------------------------ 0.4/3.8 MB 69.2 kB/s eta 0:00:50\n",
      "   --- ------------------------------------ 0.4/3.8 MB 69.2 kB/s eta 0:00:50\n",
      "   --- ------------------------------------ 0.4/3.8 MB 69.2 kB/s eta 0:00:50\n",
      "   --- ------------------------------------ 0.4/3.8 MB 69.2 kB/s eta 0:00:50\n",
      "   --- ------------------------------------ 0.4/3.8 MB 69.2 kB/s eta 0:00:50\n",
      "   --- ------------------------------------ 0.4/3.8 MB 69.2 kB/s eta 0:00:50\n",
      "   --- ------------------------------------ 0.4/3.8 MB 69.2 kB/s eta 0:00:50\n",
      "   --- ------------------------------------ 0.4/3.8 MB 69.2 kB/s eta 0:00:50\n",
      "   --- ------------------------------------ 0.4/3.8 MB 69.2 kB/s eta 0:00:50\n",
      "   --- ------------------------------------ 0.4/3.8 MB 69.2 kB/s eta 0:00:50\n",
      "   --- ------------------------------------ 0.4/3.8 MB 69.2 kB/s eta 0:00:50\n",
      "   --- ------------------------------------ 0.4/3.8 MB 69.2 kB/s eta 0:00:50\n",
      "   --- ------------------------------------ 0.4/3.8 MB 49.4 kB/s eta 0:01:10\n",
      "   ---- ----------------------------------- 0.4/3.8 MB 53.0 kB/s eta 0:01:05\n",
      "   ---- ----------------------------------- 0.5/3.8 MB 59.5 kB/s eta 0:00:57\n",
      "   ----- ---------------------------------- 0.5/3.8 MB 63.3 kB/s eta 0:00:53\n",
      "   ----- ---------------------------------- 0.6/3.8 MB 70.7 kB/s eta 0:00:47\n",
      "   ----- ---------------------------------- 0.6/3.8 MB 70.7 kB/s eta 0:00:47\n",
      "   ------ --------------------------------- 0.6/3.8 MB 77.8 kB/s eta 0:00:42\n",
      "   ------ --------------------------------- 0.7/3.8 MB 82.7 kB/s eta 0:00:39\n",
      "   ------- -------------------------------- 0.7/3.8 MB 87.5 kB/s eta 0:00:36\n",
      "   ------- -------------------------------- 0.7/3.8 MB 93.4 kB/s eta 0:00:33\n",
      "   -------- ------------------------------- 0.8/3.8 MB 101.7 kB/s eta 0:00:30\n",
      "   --------- ------------------------------ 0.9/3.8 MB 109.0 kB/s eta 0:00:27\n",
      "   --------- ------------------------------ 0.9/3.8 MB 112.4 kB/s eta 0:00:26\n",
      "   --------- ------------------------------ 0.9/3.8 MB 112.4 kB/s eta 0:00:26\n",
      "   ----------- ---------------------------- 1.1/3.8 MB 129.8 kB/s eta 0:00:22\n",
      "   ------------ --------------------------- 1.2/3.8 MB 140.1 kB/s eta 0:00:19\n",
      "   ------------ --------------------------- 1.2/3.8 MB 148.3 kB/s eta 0:00:18\n",
      "   ------------- -------------------------- 1.3/3.8 MB 157.3 kB/s eta 0:00:16\n",
      "   -------------- ------------------------- 1.4/3.8 MB 166.0 kB/s eta 0:00:15\n",
      "   -------------- ------------------------- 1.4/3.8 MB 167.2 kB/s eta 0:00:15\n",
      "   ---------------- ----------------------- 1.6/3.8 MB 183.9 kB/s eta 0:00:13\n",
      "   ---------------- ----------------------- 1.6/3.8 MB 187.2 kB/s eta 0:00:12\n",
      "   ---------------- ----------------------- 1.6/3.8 MB 187.2 kB/s eta 0:00:12\n",
      "   ---------------- ----------------------- 1.6/3.8 MB 187.2 kB/s eta 0:00:12\n",
      "   ---------------- ----------------------- 1.6/3.8 MB 187.2 kB/s eta 0:00:12\n",
      "   ---------------- ----------------------- 1.6/3.8 MB 187.2 kB/s eta 0:00:12\n",
      "   ---------------- ----------------------- 1.6/3.8 MB 187.2 kB/s eta 0:00:12\n",
      "   ------------------ --------------------- 1.7/3.8 MB 196.6 kB/s eta 0:00:11\n",
      "   ------------------ --------------------- 1.8/3.8 MB 205.6 kB/s eta 0:00:10\n",
      "   ------------------- -------------------- 1.8/3.8 MB 208.4 kB/s eta 0:00:10\n",
      "   ------------------- -------------------- 1.8/3.8 MB 208.4 kB/s eta 0:00:10\n",
      "   -------------------- ------------------- 1.9/3.8 MB 217.7 kB/s eta 0:00:09\n",
      "   ---------------------- ----------------- 2.2/3.8 MB 239.8 kB/s eta 0:00:07\n",
      "   ----------------------- ---------------- 2.3/3.8 MB 248.7 kB/s eta 0:00:07\n",
      "   ------------------------ --------------- 2.3/3.8 MB 253.5 kB/s eta 0:00:06\n",
      "   ------------------------ --------------- 2.3/3.8 MB 253.5 kB/s eta 0:00:06\n",
      "   -------------------------- ------------- 2.5/3.8 MB 272.7 kB/s eta 0:00:05\n",
      "   --------------------------- ------------ 2.6/3.8 MB 282.0 kB/s eta 0:00:05\n",
      "   --------------------------- ------------ 2.6/3.8 MB 282.0 kB/s eta 0:00:05\n",
      "   --------------------------- ------------ 2.6/3.8 MB 282.0 kB/s eta 0:00:05\n",
      "   --------------------------- ------------ 2.6/3.8 MB 280.5 kB/s eta 0:00:05\n",
      "   --------------------------- ------------ 2.7/3.8 MB 283.4 kB/s eta 0:00:05\n",
      "   ------------------------------ --------- 2.9/3.8 MB 304.3 kB/s eta 0:00:04\n",
      "   ------------------------------ --------- 2.9/3.8 MB 304.3 kB/s eta 0:00:04\n",
      "   ------------------------------- -------- 3.0/3.8 MB 310.4 kB/s eta 0:00:03\n",
      "   ------------------------------- -------- 3.0/3.8 MB 310.4 kB/s eta 0:00:03\n",
      "   ------------------------------- -------- 3.0/3.8 MB 310.4 kB/s eta 0:00:03\n",
      "   ------------------------------- -------- 3.0/3.8 MB 313.3 kB/s eta 0:00:03\n",
      "   ------------------------------- -------- 3.0/3.8 MB 313.3 kB/s eta 0:00:03\n",
      "   ------------------------------- -------- 3.0/3.8 MB 313.3 kB/s eta 0:00:03\n",
      "   ------------------------------- -------- 3.0/3.8 MB 313.3 kB/s eta 0:00:03\n",
      "   ------------------------------- -------- 3.0/3.8 MB 313.3 kB/s eta 0:00:03\n",
      "   ------------------------------- -------- 3.0/3.8 MB 313.3 kB/s eta 0:00:03\n",
      "   ------------------------------- -------- 3.0/3.8 MB 313.3 kB/s eta 0:00:03\n",
      "   ------------------------------- -------- 3.0/3.8 MB 313.3 kB/s eta 0:00:03\n",
      "   ------------------------------- -------- 3.0/3.8 MB 313.3 kB/s eta 0:00:03\n",
      "   ------------------------------- -------- 3.0/3.8 MB 313.3 kB/s eta 0:00:03\n",
      "   ------------------------------- -------- 3.0/3.8 MB 313.3 kB/s eta 0:00:03\n",
      "   ------------------------------- -------- 3.0/3.8 MB 313.3 kB/s eta 0:00:03\n",
      "   ------------------------------- -------- 3.0/3.8 MB 313.3 kB/s eta 0:00:03\n",
      "   ------------------------------- -------- 3.0/3.8 MB 313.3 kB/s eta 0:00:03\n",
      "   ------------------------------- -------- 3.0/3.8 MB 313.3 kB/s eta 0:00:03\n",
      "   ------------------------------- -------- 3.0/3.8 MB 313.3 kB/s eta 0:00:03\n",
      "   ------------------------------- -------- 3.0/3.8 MB 313.3 kB/s eta 0:00:03\n",
      "   ------------------------------- -------- 3.0/3.8 MB 313.3 kB/s eta 0:00:03\n",
      "   ------------------------------- -------- 3.0/3.8 MB 313.3 kB/s eta 0:00:03\n",
      "   ------------------------------- -------- 3.0/3.8 MB 313.3 kB/s eta 0:00:03\n",
      "   ------------------------------- -------- 3.0/3.8 MB 313.3 kB/s eta 0:00:03\n",
      "   ------------------------------- -------- 3.0/3.8 MB 313.3 kB/s eta 0:00:03\n",
      "   ------------------------------- -------- 3.0/3.8 MB 313.3 kB/s eta 0:00:03\n",
      "   ------------------------------- -------- 3.0/3.8 MB 313.3 kB/s eta 0:00:03\n",
      "   ------------------------------- -------- 3.0/3.8 MB 313.3 kB/s eta 0:00:03\n",
      "   ------------------------------- -------- 3.0/3.8 MB 313.3 kB/s eta 0:00:03\n",
      "   ------------------------------- -------- 3.0/3.8 MB 313.3 kB/s eta 0:00:03\n",
      "   ------------------------------- -------- 3.0/3.8 MB 313.3 kB/s eta 0:00:03\n",
      "   ------------------------------- -------- 3.0/3.8 MB 313.3 kB/s eta 0:00:03\n",
      "   ------------------------------- -------- 3.0/3.8 MB 313.3 kB/s eta 0:00:03\n",
      "   ------------------------------- -------- 3.0/3.8 MB 313.3 kB/s eta 0:00:03\n",
      "   ------------------------------- -------- 3.0/3.8 MB 313.3 kB/s eta 0:00:03\n",
      "   ------------------------------- -------- 3.0/3.8 MB 313.3 kB/s eta 0:00:03\n",
      "   ------------------------------- -------- 3.0/3.8 MB 313.3 kB/s eta 0:00:03\n",
      "   ------------------------------- -------- 3.0/3.8 MB 313.3 kB/s eta 0:00:03\n",
      "   ------------------------------- -------- 3.0/3.8 MB 313.3 kB/s eta 0:00:03\n",
      "   ------------------------------- -------- 3.0/3.8 MB 313.3 kB/s eta 0:00:03\n",
      "   ------------------------------- -------- 3.0/3.8 MB 313.3 kB/s eta 0:00:03\n",
      "   ------------------------------- -------- 3.0/3.8 MB 313.3 kB/s eta 0:00:03\n",
      "   ------------------------------- -------- 3.0/3.8 MB 313.3 kB/s eta 0:00:03\n",
      "   ------------------------------- -------- 3.0/3.8 MB 313.3 kB/s eta 0:00:03\n",
      "   ------------------------------- -------- 3.0/3.8 MB 313.3 kB/s eta 0:00:03\n",
      "   ------------------------------- -------- 3.0/3.8 MB 313.3 kB/s eta 0:00:03\n",
      "   ------------------------------- -------- 3.0/3.8 MB 313.3 kB/s eta 0:00:03\n",
      "   ------------------------------- -------- 3.0/3.8 MB 313.3 kB/s eta 0:00:03\n",
      "   ------------------------------- -------- 3.0/3.8 MB 313.3 kB/s eta 0:00:03\n",
      "   -------------------------------- ------- 3.1/3.8 MB 261.3 kB/s eta 0:00:03\n",
      "   -------------------------------- ------- 3.1/3.8 MB 262.0 kB/s eta 0:00:03\n",
      "   ---------------------------------- ----- 3.3/3.8 MB 277.8 kB/s eta 0:00:02\n",
      "   ----------------------------------- ---- 3.4/3.8 MB 283.6 kB/s eta 0:00:02\n",
      "   ------------------------------------ --- 3.5/3.8 MB 289.3 kB/s eta 0:00:02\n",
      "   ------------------------------------ --- 3.5/3.8 MB 290.6 kB/s eta 0:00:02\n",
      "   -------------------------------------- - 3.7/3.8 MB 302.3 kB/s eta 0:00:01\n",
      "   -------------------------------------- - 3.7/3.8 MB 304.0 kB/s eta 0:00:01\n",
      "   -------------------------------------- - 3.7/3.8 MB 304.0 kB/s eta 0:00:01\n",
      "   ---------------------------------------- 3.8/3.8 MB 311.5 kB/s eta 0:00:00\n",
      "Installing collected packages: lxml\n",
      "Successfully installed lxml-5.3.0\n",
      "Note: you may need to restart the kernel to use updated packages.\n"
     ]
    },
    {
     "name": "stderr",
     "output_type": "stream",
     "text": [
      "\n",
      "[notice] A new release of pip is available: 23.2.1 -> 25.0\n",
      "[notice] To update, run: python.exe -m pip install --upgrade pip\n"
     ]
    }
   ],
   "source": [
    "pip install lxml\n"
   ]
  },
  {
   "cell_type": "code",
   "execution_count": 17,
   "metadata": {},
   "outputs": [],
   "source": [
    "from bs4 import BeautifulSoup"
   ]
  },
  {
   "cell_type": "code",
   "execution_count": 22,
   "metadata": {},
   "outputs": [],
   "source": [
    "# removing special characters \n",
    "## 2. Removing Special Characters\n",
    "df['reviewText'] = df['reviewText'].apply(lambda x:re.sub('[^a-z A-Z 0-9-]+','',x))\n",
    "\n",
    "## Remove the stopwords\n",
    "# df['reviewText'] = df['reviewText'].apply(lambda x:\" \".join([y for y in x.split() if y not in stopwords.words('english')]))\n",
    "stop_words = set(stopwords.words('english'))\n",
    "df['reviewText'] = df['reviewText'].apply(lambda x: \" \".join([word for word in x.split() if word not in stop_words]))\n",
    "\n",
    "## Remove url\n",
    "df['reviewText'] = df['reviewText'].apply(lambda x: re.sub(r'(http|https|ftp|ssh)://([\\w_-]+(?:(?:\\.[\\w_-]+)+))([\\w.,@?^=%&:/~+#-]*[\\w@?^=%&/~+#-])?','', str(x)))\n",
    "\n",
    "## Removing  html tags\n",
    "df['reviewText'] = df['reviewText'].apply(lambda x: BeautifulSoup(x, 'html.parser').get_text())\n",
    "\n",
    "\n",
    "## Remove any additional spaces\n",
    "df['reviewText'] = df['reviewText'].apply(lambda x: \" \".join(x.split()))"
   ]
  },
  {
   "cell_type": "code",
   "execution_count": 24,
   "metadata": {},
   "outputs": [
    {
     "data": {
      "text/html": [
       "<div>\n",
       "<style scoped>\n",
       "    .dataframe tbody tr th:only-of-type {\n",
       "        vertical-align: middle;\n",
       "    }\n",
       "\n",
       "    .dataframe tbody tr th {\n",
       "        vertical-align: top;\n",
       "    }\n",
       "\n",
       "    .dataframe thead th {\n",
       "        text-align: right;\n",
       "    }\n",
       "</style>\n",
       "<table border=\"1\" class=\"dataframe\">\n",
       "  <thead>\n",
       "    <tr style=\"text-align: right;\">\n",
       "      <th></th>\n",
       "      <th>reviewText</th>\n",
       "      <th>rating</th>\n",
       "    </tr>\n",
       "  </thead>\n",
       "  <tbody>\n",
       "    <tr>\n",
       "      <th>0</th>\n",
       "      <td>jace rankin may short hes nothing mess man hau...</td>\n",
       "      <td>1</td>\n",
       "    </tr>\n",
       "    <tr>\n",
       "      <th>1</th>\n",
       "      <td>great short read didnt want put read one sitti...</td>\n",
       "      <td>1</td>\n",
       "    </tr>\n",
       "    <tr>\n",
       "      <th>2</th>\n",
       "      <td>ill start saying first four books wasnt expect...</td>\n",
       "      <td>1</td>\n",
       "    </tr>\n",
       "    <tr>\n",
       "      <th>3</th>\n",
       "      <td>aggie angela lansbury carries pocketbooks inst...</td>\n",
       "      <td>1</td>\n",
       "    </tr>\n",
       "    <tr>\n",
       "      <th>4</th>\n",
       "      <td>expect type book library pleased find price right</td>\n",
       "      <td>1</td>\n",
       "    </tr>\n",
       "  </tbody>\n",
       "</table>\n",
       "</div>"
      ],
      "text/plain": [
       "                                          reviewText  rating\n",
       "0  jace rankin may short hes nothing mess man hau...       1\n",
       "1  great short read didnt want put read one sitti...       1\n",
       "2  ill start saying first four books wasnt expect...       1\n",
       "3  aggie angela lansbury carries pocketbooks inst...       1\n",
       "4  expect type book library pleased find price right       1"
      ]
     },
     "execution_count": 24,
     "metadata": {},
     "output_type": "execute_result"
    }
   ],
   "source": [
    "df.head()"
   ]
  },
  {
   "cell_type": "code",
   "execution_count": 25,
   "metadata": {},
   "outputs": [],
   "source": [
    "# lemmatizer\n",
    "from nltk.stem import WordNetLemmatizer"
   ]
  },
  {
   "cell_type": "code",
   "execution_count": 26,
   "metadata": {},
   "outputs": [],
   "source": [
    "lemmatizer = WordNetLemmatizer()"
   ]
  },
  {
   "cell_type": "code",
   "execution_count": 27,
   "metadata": {},
   "outputs": [],
   "source": [
    "def lemmatize_words(text):\n",
    "    return \" \".join([lemmatizer.lemmatize(word) for word in text.split()])"
   ]
  },
  {
   "cell_type": "code",
   "execution_count": 28,
   "metadata": {},
   "outputs": [],
   "source": [
    "df['reviewText'] = df['reviewText'].apply(lambda x:lemmatize_words(x))"
   ]
  },
  {
   "cell_type": "code",
   "execution_count": 29,
   "metadata": {},
   "outputs": [
    {
     "data": {
      "text/html": [
       "<div>\n",
       "<style scoped>\n",
       "    .dataframe tbody tr th:only-of-type {\n",
       "        vertical-align: middle;\n",
       "    }\n",
       "\n",
       "    .dataframe tbody tr th {\n",
       "        vertical-align: top;\n",
       "    }\n",
       "\n",
       "    .dataframe thead th {\n",
       "        text-align: right;\n",
       "    }\n",
       "</style>\n",
       "<table border=\"1\" class=\"dataframe\">\n",
       "  <thead>\n",
       "    <tr style=\"text-align: right;\">\n",
       "      <th></th>\n",
       "      <th>reviewText</th>\n",
       "      <th>rating</th>\n",
       "    </tr>\n",
       "  </thead>\n",
       "  <tbody>\n",
       "    <tr>\n",
       "      <th>0</th>\n",
       "      <td>jace rankin may short he nothing mess man haul...</td>\n",
       "      <td>1</td>\n",
       "    </tr>\n",
       "    <tr>\n",
       "      <th>1</th>\n",
       "      <td>great short read didnt want put read one sitti...</td>\n",
       "      <td>1</td>\n",
       "    </tr>\n",
       "    <tr>\n",
       "      <th>2</th>\n",
       "      <td>ill start saying first four book wasnt expecti...</td>\n",
       "      <td>1</td>\n",
       "    </tr>\n",
       "    <tr>\n",
       "      <th>3</th>\n",
       "      <td>aggie angela lansbury carry pocketbook instead...</td>\n",
       "      <td>1</td>\n",
       "    </tr>\n",
       "    <tr>\n",
       "      <th>4</th>\n",
       "      <td>expect type book library pleased find price right</td>\n",
       "      <td>1</td>\n",
       "    </tr>\n",
       "  </tbody>\n",
       "</table>\n",
       "</div>"
      ],
      "text/plain": [
       "                                          reviewText  rating\n",
       "0  jace rankin may short he nothing mess man haul...       1\n",
       "1  great short read didnt want put read one sitti...       1\n",
       "2  ill start saying first four book wasnt expecti...       1\n",
       "3  aggie angela lansbury carry pocketbook instead...       1\n",
       "4  expect type book library pleased find price right       1"
      ]
     },
     "execution_count": 29,
     "metadata": {},
     "output_type": "execute_result"
    }
   ],
   "source": [
    "df.head()"
   ]
  },
  {
   "cell_type": "code",
   "execution_count": 30,
   "metadata": {},
   "outputs": [],
   "source": [
    "from sklearn.model_selection import train_test_split\n",
    "X_train,X_test,y_train,y_test = train_test_split(df['reviewText'],df['rating'],test_size=0.20)"
   ]
  },
  {
   "cell_type": "code",
   "execution_count": 31,
   "metadata": {},
   "outputs": [],
   "source": [
    "from sklearn.feature_extraction.text import CountVectorizer\n",
    "bow = CountVectorizer()\n",
    "X_train_bow = bow.fit_transform(X_train).toarray()\n",
    "X_test_bow = bow.transform(X_test).toarray()"
   ]
  },
  {
   "cell_type": "code",
   "execution_count": 32,
   "metadata": {},
   "outputs": [],
   "source": [
    "from sklearn.feature_extraction.text import TfidfVectorizer\n",
    "tfidf = TfidfVectorizer()\n",
    "X_train_tfidf = tfidf.fit_transform(X_train).toarray()\n",
    "X_test_tfidf = tfidf.transform(X_test).toarray()"
   ]
  },
  {
   "cell_type": "code",
   "execution_count": 33,
   "metadata": {},
   "outputs": [
    {
     "data": {
      "text/plain": [
       "array([[0, 0, 0, ..., 0, 0, 0],\n",
       "       [0, 0, 0, ..., 0, 0, 0],\n",
       "       [0, 0, 0, ..., 0, 0, 0],\n",
       "       ...,\n",
       "       [0, 0, 0, ..., 0, 0, 0],\n",
       "       [0, 0, 0, ..., 0, 0, 0],\n",
       "       [0, 0, 0, ..., 0, 0, 0]], dtype=int64)"
      ]
     },
     "execution_count": 33,
     "metadata": {},
     "output_type": "execute_result"
    }
   ],
   "source": [
    "X_train_bow"
   ]
  },
  {
   "cell_type": "code",
   "execution_count": 35,
   "metadata": {},
   "outputs": [],
   "source": [
    "from sklearn.naive_bayes import GaussianNB\n",
    "nb_model_bow = GaussianNB().fit(X_train_bow,y_train)\n",
    "nb_model_tfidf = GaussianNB().fit(X_train_tfidf,y_train)"
   ]
  },
  {
   "cell_type": "code",
   "execution_count": 36,
   "metadata": {},
   "outputs": [],
   "source": [
    "from sklearn.metrics import confusion_matrix,accuracy_score ,classification_report"
   ]
  },
  {
   "cell_type": "code",
   "execution_count": 37,
   "metadata": {},
   "outputs": [],
   "source": [
    "y_pred_bow = nb_model_bow.predict(X_test_bow)"
   ]
  },
  {
   "cell_type": "code",
   "execution_count": 38,
   "metadata": {},
   "outputs": [],
   "source": [
    "y_pred_tfidf = nb_model_tfidf.predict(X_test_tfidf)"
   ]
  },
  {
   "cell_type": "code",
   "execution_count": 43,
   "metadata": {},
   "outputs": [
    {
     "name": "stdout",
     "output_type": "stream",
     "text": [
      "BOW accuracy :  0.5704166666666667\n"
     ]
    }
   ],
   "source": [
    "print(\"BOW accuracy : \", accuracy_score(y_test,y_pred_bow))"
   ]
  },
  {
   "cell_type": "code",
   "execution_count": null,
   "metadata": {},
   "outputs": [],
   "source": []
  },
  {
   "cell_type": "code",
   "execution_count": null,
   "metadata": {},
   "outputs": [],
   "source": []
  }
 ],
 "metadata": {
  "kernelspec": {
   "display_name": "Python 3",
   "language": "python",
   "name": "python3"
  },
  "language_info": {
   "codemirror_mode": {
    "name": "ipython",
    "version": 3
   },
   "file_extension": ".py",
   "mimetype": "text/x-python",
   "name": "python",
   "nbconvert_exporter": "python",
   "pygments_lexer": "ipython3",
   "version": "3.12.0"
  }
 },
 "nbformat": 4,
 "nbformat_minor": 2
}
