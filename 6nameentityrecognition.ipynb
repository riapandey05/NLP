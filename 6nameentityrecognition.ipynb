{
 "cells": [
  {
   "cell_type": "code",
   "execution_count": 11,
   "metadata": {},
   "outputs": [],
   "source": [
    "sentence=\"The Eiffel Tower was build from 1887 to 1889 by French engineer Gustave Eiffel, whose company specialized in building metal frameworks and structures.\""
   ]
  },
  {
   "cell_type": "code",
   "execution_count": 10,
   "metadata": {},
   "outputs": [
    {
     "name": "stdout",
     "output_type": "stream",
     "text": [
      "Defaulting to user installation because normal site-packages is not writeable\n",
      "Collecting numpy\n",
      "  Downloading numpy-2.2.0-cp313-cp313-win_amd64.whl.metadata (60 kB)\n",
      "Downloading numpy-2.2.0-cp313-cp313-win_amd64.whl (12.6 MB)\n",
      "   ---------------------------------------- 0.0/12.6 MB ? eta -:--:--\n",
      "    --------------------------------------- 0.3/12.6 MB ? eta -:--:--\n",
      "   -- ------------------------------------- 0.8/12.6 MB 2.8 MB/s eta 0:00:05\n",
      "   --- ------------------------------------ 1.0/12.6 MB 2.5 MB/s eta 0:00:05\n",
      "   ----- ---------------------------------- 1.8/12.6 MB 2.3 MB/s eta 0:00:05\n",
      "   -------- ------------------------------- 2.6/12.6 MB 2.8 MB/s eta 0:00:04\n",
      "   ------------ --------------------------- 3.9/12.6 MB 3.3 MB/s eta 0:00:03\n",
      "   --------------- ------------------------ 5.0/12.6 MB 3.6 MB/s eta 0:00:03\n",
      "   ------------------- -------------------- 6.0/12.6 MB 3.7 MB/s eta 0:00:02\n",
      "   --------------------- ------------------ 6.8/12.6 MB 3.8 MB/s eta 0:00:02\n",
      "   ------------------------- -------------- 8.1/12.6 MB 3.9 MB/s eta 0:00:02\n",
      "   ----------------------------- ---------- 9.2/12.6 MB 4.0 MB/s eta 0:00:01\n",
      "   -------------------------------- ------- 10.2/12.6 MB 4.1 MB/s eta 0:00:01\n",
      "   ---------------------------------- ----- 11.0/12.6 MB 4.1 MB/s eta 0:00:01\n",
      "   -------------------------------------- - 12.1/12.6 MB 4.2 MB/s eta 0:00:01\n",
      "   ---------------------------------------- 12.6/12.6 MB 4.1 MB/s eta 0:00:00\n",
      "Installing collected packages: numpy\n",
      "Successfully installed numpy-2.2.0\n",
      "Note: you may need to restart the kernel to use updated packages.\n"
     ]
    }
   ],
   "source": [
    "pip install numpy "
   ]
  },
  {
   "cell_type": "code",
   "execution_count": 12,
   "metadata": {},
   "outputs": [],
   "source": [
    "import nltk\n",
    "words=nltk.word_tokenize(sentence)"
   ]
  },
  {
   "cell_type": "code",
   "execution_count": 13,
   "metadata": {},
   "outputs": [],
   "source": [
    "pos_tag=nltk.pos_tag(words)"
   ]
  },
  {
   "cell_type": "code",
   "execution_count": 7,
   "metadata": {},
   "outputs": [
    {
     "name": "stderr",
     "output_type": "stream",
     "text": [
      "[nltk_data] Downloading package maxent_ne_chunker to C:\\Users\\Rajeev\n",
      "[nltk_data]     Pandey\\AppData\\Roaming\\nltk_data...\n",
      "[nltk_data]   Package maxent_ne_chunker is already up-to-date!\n"
     ]
    },
    {
     "data": {
      "text/plain": [
       "True"
      ]
     },
     "execution_count": 7,
     "metadata": {},
     "output_type": "execute_result"
    }
   ],
   "source": [
    "nltk.download('maxent_ne_chunker')"
   ]
  },
  {
   "cell_type": "code",
   "execution_count": 8,
   "metadata": {},
   "outputs": [
    {
     "name": "stderr",
     "output_type": "stream",
     "text": [
      "[nltk_data] Downloading package words to C:\\Users\\Rajeev\n",
      "[nltk_data]     Pandey\\AppData\\Roaming\\nltk_data...\n",
      "[nltk_data]   Package words is already up-to-date!\n"
     ]
    },
    {
     "data": {
      "text/plain": [
       "True"
      ]
     },
     "execution_count": 8,
     "metadata": {},
     "output_type": "execute_result"
    }
   ],
   "source": [
    "nltk.download('words')"
   ]
  },
  {
   "cell_type": "code",
   "execution_count": 14,
   "metadata": {},
   "outputs": [],
   "source": [
    "nltk.ne_chunk(pos_tag).draw()"
   ]
  }
 ],
 "metadata": {
  "kernelspec": {
   "display_name": "Python 3",
   "language": "python",
   "name": "python3"
  },
  "language_info": {
   "codemirror_mode": {
    "name": "ipython",
    "version": 3
   },
   "file_extension": ".py",
   "mimetype": "text/x-python",
   "name": "python",
   "nbconvert_exporter": "python",
   "pygments_lexer": "ipython3",
   "version": "3.13.1"
  }
 },
 "nbformat": 4,
 "nbformat_minor": 2
}
